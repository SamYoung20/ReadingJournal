{
 "cells": [
  {
   "cell_type": "markdown",
   "metadata": {},
   "source": [
    "# Day 1 Reading Journal\n",
    "\n",
    "Hi everyone.  These are the exercises for the first set of readings from ThinkPython.  While this journal consists of several required exercises, it is meant to encourage active reading more generally.  You should use this journal to take detailed notes, catalog questions, and explore the content from ThinkPython deeply.\n",
    "\n",
    "For more information on using the Jupyter notebook, check out the documentation [here](https://www.datacamp.com/community/tutorials/tutorial-jupyter-notebook##UseJupyter).\n",
    "\n",
    "Additionally, in order to write text in this document, you will be making use of Markdown cells. A handy cheatsheet for Markdown is available [here](https://github.com/adam-p/markdown-here/wiki/Markdown-Cheatsheet)."
   ]
  },
  {
   "cell_type": "markdown",
   "metadata": {},
   "source": [
    "## Chapter 1\n",
    "\n",
    "Note: the exercise numbers below match up with the reading for ease of cross referencing.\n",
    "\n",
    "Notes on Chapter 1:\n",
    "\n",
    "    All languages have: Input, Output, Math, Conditional execution, Repetition\n",
    "    Python Interpreter: program that reads and exectutes Python\n",
    "    >>> print('Hello World!')\n",
    "        Hello World!\n",
    "    Operator Differences from java:\n",
    "        ** = raised to power (exponential)\n",
    "        ^ = XOR\n",
    "    Values and Types\n",
    "        2 = integer\n",
    "        42.0 = floating-point number\n",
    "        string = 'Hello, World!'\n",
    "    Formal and Natural Languages\n",
    "        Natural language: not designed by people ex. French\n",
    "        Formal language: designed by people for specific application \n",
    "        Programing languages --> formal language for expressing computations\n",
    "        syntax: rules that govern structure of statements\n",
    "        tokens: word, elements of a language\n",
    "        parsing: removing invalid tokens\n",
    "        "
   ]
  },
  {
   "cell_type": "markdown",
   "metadata": {},
   "source": [
    "### Exercise 1.2\n",
    "\n",
    "Start the Python interpreter and use it as a calculator. Python’s syntax for math operations is almost the same as standard mathematical notation. For example, the symbols +, - and / denote addition, subtraction and division, as you would expect. The symbol for multiplication is *.\n",
    "\n",
    "* How many seconds are there in 42 minutes 42 seconds?\n",
    "* How many miles are there in 10 kilometers? Hint: there are 1.61 kilometers in a mile.\n",
    "* If you run a 10 kilometer race in 42 minutes 42 seconds, what is your average pace (time per mile in minutes and seconds)? What is your average speed in miles per hour?"
   ]
  },
  {
   "cell_type": "code",
   "execution_count": 18,
   "metadata": {
    "collapsed": false
   },
   "outputs": [
    {
     "name": "stdout",
     "output_type": "stream",
     "text": [
      "Question 1\n",
      "2562\n",
      "Question 2\n",
      "6.211180124223602\n",
      "Question 3\n",
      "6 minutes 36 seconds\n"
     ]
    }
   ],
   "source": [
    "print('Question 1')\n",
    "print((60*42)+ 42)\n",
    "#2562\n",
    "print('Question 2')\n",
    "print(10.0/1.61)\n",
    "#6.211180124223602\n",
    "print('Question 3')\n",
    "minutes= ((2462.0) /(10.0/1.61))/60.0\n",
    "seconds =.606366666666668*60\n",
    "#6.606366666666668\n",
    "#36.38200000000008\n",
    "m = int(minutes)\n",
    "s = int(seconds)\n",
    "print(m , 'minutes' , s , 'seconds')\n",
    "#6 minutes and 36.382 seconds per kilometer\n",
    "\n",
    "\n",
    "\n",
    "\n"
   ]
  },
  {
   "cell_type": "markdown",
   "metadata": {},
   "source": [
    "## Chapter 2"
   ]
  },
  {
   "cell_type": "markdown",
   "metadata": {},
   "source": [
    "### Exercise\n",
    "\n",
    "Assume that we execute the following assignment statements:\n",
    "\n",
    "```\n",
    "width = 17\n",
    "height = 12.0\n",
    "delimiter = '.'\n",
    "```\n",
    "\n",
    "For each of the following expressions, write the value of the expression and the type (of the value of the expression).\n",
    "\n",
    "1. `width/2`\n",
    "    8 integer\n",
    "2. `width/2.0`\n",
    "    8.5 float-point value\n",
    "3. `height/3`\n",
    "    4.0 float- point value\n",
    "4. `1 + 2 * 5`\n",
    "    11 integer\n",
    "5. `delimiter * 5`\n",
    "    ..... string\n",
    "\n",
    "\n",
    "Please use the following markdown cell to provide your answer."
   ]
  },
  {
   "cell_type": "markdown",
   "metadata": {},
   "source": [
    "1. 8 integer\n",
    "2. 8.5 float-point value\n",
    "3. 4.0 float- point value\n",
    "4. 11 integer\n",
    "5. ..... string\n"
   ]
  },
  {
   "cell_type": "markdown",
   "metadata": {},
   "source": [
    "### Exercise 2\n",
    "\n",
    "Practice using the Python interpreter as a calculator.  For each of these provide Python code that computes each answer."
   ]
  },
  {
   "cell_type": "markdown",
   "metadata": {},
   "source": [
    "The volume of a sphere with radius r is 4/3 $\\pi r^3$. What is the volume of a sphere with radius 5? Hint: 392.7 is wrong!"
   ]
  },
  {
   "cell_type": "code",
   "execution_count": 20,
   "metadata": {
    "collapsed": false
   },
   "outputs": [
    {
     "name": "stdout",
     "output_type": "stream",
     "text": [
      "523.5987755982983\n"
     ]
    }
   ],
   "source": [
    "r = 5.0\n",
    "pi = 3.14159265358979\n",
    "ans = (4.0/3.0) * pi * (r**3)\n",
    "print(ans)\n",
    "\n",
    "\n",
    "\n"
   ]
  },
  {
   "cell_type": "markdown",
   "metadata": {},
   "source": [
    "Suppose the cover price of a book is \\$24.95, but bookstores get a 40% discount. Shipping costs \\$3 for the first copy and 75 cents for each additional copy. What is the total wholesale cost for 60 copies?"
   ]
  },
  {
   "cell_type": "code",
   "execution_count": 26,
   "metadata": {
    "collapsed": false
   },
   "outputs": [
    {
     "name": "stdout",
     "output_type": "stream",
     "text": [
      "945.4499999999999\n"
     ]
    }
   ],
   "source": [
    "covPrice = 24.95\n",
    "disc = 0.6\n",
    "ship1 = 3.0\n",
    "shipN = 0.75\n",
    "n = 60.0\n",
    "print(((covPrice * disc) * n) + ship1 + (shipN * (n-1)))\n"
   ]
  },
  {
   "cell_type": "markdown",
   "metadata": {},
   "source": [
    "If I leave my house at 6:52 am and run 1 mile at an easy pace (8:15 per mile), then 3 miles at tempo (7:12 per mile) and 1 mile at easy pace again, what time do I get home for breakfast? "
   ]
  },
  {
   "cell_type": "code",
   "execution_count": 35,
   "metadata": {
    "collapsed": false
   },
   "outputs": [
    {
     "name": "stdout",
     "output_type": "stream",
     "text": [
      "38 minutes 8.100000000000001 seconds\n"
     ]
    }
   ],
   "source": [
    "easy = (8 * 60)+ 15\n",
    "easyTime = easy * 2\n",
    "tempo = (7 * 60) + 12\n",
    "tempoTime = tempo * 3\n",
    "inSeconds = tempoTime + easyTime\n",
    "minutes = int(inSeconds/60.0)\n",
    "seconds = (inSeconds/60.0)%10 %10 \n",
    "int(seconds)\n",
    "print(minutes, 'minutes',seconds, 'seconds')"
   ]
  },
  {
   "cell_type": "markdown",
   "metadata": {},
   "source": [
    "## Chapter 3"
   ]
  },
  {
   "cell_type": "markdown",
   "metadata": {},
   "source": [
    "### Exercise 1\n",
    "\n",
    "Write a function named `right_justify` that takes a string named s as a parameter and prints the string with enough leading spaces so that the last letter of the string is in column 70 of the display.\n",
    "\n",
    "```\n",
    ">>> right_justify('monty')\n",
    "                                                                 monty\n",
    "```\n",
    "Hint: Use string concatenation and repetition. Also, Python provides a built-in function called `len` that returns the length of a string, so the value of `len('monty')` is 5."
   ]
  },
  {
   "cell_type": "code",
   "execution_count": 22,
   "metadata": {
    "collapsed": false
   },
   "outputs": [
    {
     "name": "stdout",
     "output_type": "stream",
     "text": [
      "                                                                 monty\n"
     ]
    }
   ],
   "source": [
    "word = 'monty'\n",
    "\n",
    "\n",
    "def right_justify(word):\n",
    "    repeatNumber = 70 - len(word)\n",
    "    spaces = ' ' * repeatNumber\n",
    "    print(spaces + word)\n",
    "\n",
    "\n",
    "right_justify(word)\n"
   ]
  },
  {
   "cell_type": "markdown",
   "metadata": {},
   "source": [
    "### Exercise 5\n",
    "\n",
    "Note: This exercise should be done using only the statements and other features we have learned so far.\n",
    "\n",
    "Write a function that draws a grid like the following:\n",
    "\n",
    "```\n",
    "+ - - - - + - - - - +\n",
    "|         |         |\n",
    "|         |         |\n",
    "|         |         |\n",
    "|         |         |\n",
    "+ - - - - + - - - - +\n",
    "|         |         |\n",
    "|         |         |\n",
    "|         |         |\n",
    "|         |         |\n",
    "+ - - - - + - - - - +\n",
    "```\n",
    "\n",
    "*Hint*: to print more than one value on a line, you can print a comma-separated sequence of values:\n",
    "\n",
    "```\n",
    "print('+', '-')\n",
    "```\n",
    "\n",
    "By default, `print` advances to the next line, but you can override that behavior and put a space at the end, like this:\n",
    "\n",
    "```\n",
    "print('+', end=' ')\n",
    "print('-')\n",
    "```\n",
    "\n",
    "The output of these statements is '+ -'.\n",
    "\n",
    "A `print` statement with no argument ends the current line and goes to the next line."
   ]
  },
  {
   "cell_type": "code",
   "execution_count": 23,
   "metadata": {
    "collapsed": false
   },
   "outputs": [
    {
     "name": "stdout",
     "output_type": "stream",
     "text": [
      "+ - - - - + - - - - +\n",
      "|         |         |\n",
      "|         |         |\n",
      "|         |         |\n",
      "|         |         |\n",
      "+ - - - - + - - - - +\n",
      "|         |         |\n",
      "|         |         |\n",
      "|         |         |\n",
      "|         |         |\n",
      "+ - - - - + - - - - +\n"
     ]
    }
   ],
   "source": [
    "def makeGrid():\n",
    "    makeHLine = '+ - - - - + - - - - +'\n",
    "    makeVLine = '|' + (' ' * 9) + '|' + (' ' * 9) + '|'\n",
    "    print(makeHLine)\n",
    "    print(makeVLine)\n",
    "    print(makeVLine)\n",
    "    print(makeVLine)\n",
    "    print(makeVLine)\n",
    "    print(makeHLine)\n",
    "    print(makeVLine)\n",
    "    print(makeVLine)\n",
    "    print(makeVLine)\n",
    "    print(makeVLine)\n",
    "    print(makeHLine)\n",
    "\n",
    "makeGrid()\n"
   ]
  },
  {
   "cell_type": "markdown",
   "metadata": {},
   "source": [
    "(b) Write a function that draws a similar grid with four rows and four columns."
   ]
  },
  {
   "cell_type": "code",
   "execution_count": 24,
   "metadata": {
    "collapsed": false
   },
   "outputs": [
    {
     "name": "stdout",
     "output_type": "stream",
     "text": [
      "+ - - - - + - - - - + - - - - + - - - - +\n",
      "|         |         |         |         |\n",
      "|         |         |         |         |\n",
      "|         |         |         |         |\n",
      "|         |         |         |         |\n",
      "|         |         |         |         |\n",
      "+ - - - - + - - - - + - - - - + - - - - +\n",
      "|         |         |         |         |\n",
      "|         |         |         |         |\n",
      "|         |         |         |         |\n",
      "|         |         |         |         |\n",
      "|         |         |         |         |\n",
      "+ - - - - + - - - - + - - - - + - - - - +\n",
      "|         |         |         |         |\n",
      "|         |         |         |         |\n",
      "|         |         |         |         |\n",
      "|         |         |         |         |\n",
      "|         |         |         |         |\n",
      "+ - - - - + - - - - + - - - - + - - - - +\n",
      "|         |         |         |         |\n",
      "|         |         |         |         |\n",
      "|         |         |         |         |\n",
      "|         |         |         |         |\n",
      "|         |         |         |         |\n",
      "+ - - - - + - - - - + - - - - + - - - - +\n"
     ]
    }
   ],
   "source": [
    "def makeGrid2(c):\n",
    "    makeHLine = '+ - - - - '\n",
    "    makeVLine = '|' + (' ' * 9)\n",
    "    print(makeHLine * c + '+')\n",
    "    print(makeVLine * c + '|')\n",
    "    print(makeVLine * c + '|')\n",
    "    print(makeVLine * c + '|')\n",
    "    print(makeVLine * c + '|')\n",
    "    print(makeVLine * c + '|')\n",
    "    print(makeHLine * c + '+')\n",
    "    print(makeVLine * c + '|')\n",
    "    print(makeVLine * c + '|')\n",
    "    print(makeVLine * c + '|')\n",
    "    print(makeVLine * c + '|')\n",
    "    print(makeVLine * c + '|')\n",
    "    print(makeHLine * c + '+')\n",
    "    print(makeVLine * c + '|')\n",
    "    print(makeVLine * c + '|')\n",
    "    print(makeVLine * c + '|')\n",
    "    print(makeVLine * c + '|')\n",
    "    print(makeVLine * c + '|')\n",
    "    print(makeHLine * c + '+')\n",
    "    print(makeVLine * c + '|')\n",
    "    print(makeVLine * c + '|')\n",
    "    print(makeVLine * c + '|')\n",
    "    print(makeVLine * c + '|')\n",
    "    print(makeVLine * c + '|')\n",
    "    print(makeHLine * c + '+')\n",
    "\n",
    "\n",
    "makeGrid2(4)\n"
   ]
  },
  {
   "cell_type": "markdown",
   "metadata": {},
   "source": [
    "## Chapter 5.1 - 5.7"
   ]
  },
  {
   "cell_type": "markdown",
   "metadata": {},
   "source": [
    "### Exercise 2\n",
    "\n",
    "Fermat’s Last Theorem says that there are no positive integers $a$, $b$, and $c$ such that $$a^n + b^n = c^n$$ for any values of $n$ greater than 2.\n",
    "\n",
    "1\\. Write a function named `check_fermat` that takes four parameters – $a$, $b$, $c$ and $n$ – and that checks to see if Fermat’s theorem holds. If n is greater than 2 and it turns out to be true that\n",
    "$$a^n + b^n = c^n$$ the program should print, \"Holy smokes, Fermat was wrong!\" Otherwise the program should print, \"No, that doesn’t work.\""
   ]
  },
  {
   "cell_type": "code",
   "execution_count": 25,
   "metadata": {
    "collapsed": true
   },
   "outputs": [],
   "source": [
    "def check_fermat(a, b, c, n):\n",
    "    if (a**n + b**n) == (c**n):\n",
    "        print('Holy smokes, Fermat was wrong')\n",
    "    else:\n",
    "        print('No, that doesn’t work')"
   ]
  },
  {
   "cell_type": "markdown",
   "metadata": {},
   "source": [
    "2\\. Write a function that prompts the user to input values for $a$, $b$, $c$ and $n$, converts them to integers, and uses `check_fermat` to check whether they violate Fermat’s theorem."
   ]
  },
  {
   "cell_type": "code",
   "execution_count": 28,
   "metadata": {
    "collapsed": false
   },
   "outputs": [
    {
     "name": "stdout",
     "output_type": "stream",
     "text": [
      "No, that doesn’t work\n"
     ]
    }
   ],
   "source": [
    "def ask_fermat(a, b, c, n):\n",
    "    a1 = int(a)\n",
    "    b1 = int(b)\n",
    "    c1 = int(c)\n",
    "    n1 = int(n)\n",
    "    check_fermat(a1, b1, c1, n1)\n",
    "\n",
    "        \n",
    "ask_fermat(2, 3, 4, 5)"
   ]
  },
  {
   "cell_type": "markdown",
   "metadata": {},
   "source": [
    "### Exercise 4  \n",
    "\n",
    "If you are given three sticks, you may or may not be able to arrange them in a triangle. For example, if one of the sticks is 12 inches long and the other two are one inch long, it is clear that you will not be able to get the short sticks to meet in the middle. For any three lengths, there is a simple test to see if it is possible to form a triangle:\n",
    "> If any of the three lengths is greater than the sum of the other two, then you cannot form a triangle. Otherwise, you can. (If the sum of two lengths equals the third, they form what is called a “degenerate” triangle.)\n",
    "\n",
    "1\\. Write a function named `is_triangle` that takes three integers as arguments, and that prints either \"Yes\" or \"No,\" depending on whether you can or cannot form a triangle from sticks with the given lengths."
   ]
  },
  {
   "cell_type": "code",
   "execution_count": null,
   "metadata": {
    "collapsed": false
   },
   "outputs": [],
   "source": [
    "def check_triangle(s1, s2, s3):\n",
    "    if (s1 + s2) < s3:\n",
    "        print('Not a triangle')\n",
    "    elif (s1 + s3) < s1:\n",
    "        print('Not a triangle')\n",
    "    else:\n",
    "        print('is a triangle')\n",
    "\n",
    "        \n",
    "check_triangle(1, 1, 5)"
   ]
  },
  {
   "cell_type": "markdown",
   "metadata": {},
   "source": [
    "2\\. Write a function that prompts the user to input three stick lengths, converts them to integers, and uses `is_triangle` to check whether sticks with the given lengths can form a triangle."
   ]
  },
  {
   "cell_type": "code",
   "execution_count": 30,
   "metadata": {
    "collapsed": false
   },
   "outputs": [
    {
     "name": "stdout",
     "output_type": "stream",
     "text": [
      "Not a triangle\n"
     ]
    }
   ],
   "source": [
    "def ask_triangle(a, b, c):\n",
    "    a1 = int(a)\n",
    "    b1 = int(b)\n",
    "    c1 = int(c)\n",
    "    check_triangle(a1, b1, c1)\n",
    "\n",
    "        \n",
    "ask_triangle(1, 1, 5)"
   ]
  },
  {
   "cell_type": "markdown",
   "metadata": {},
   "source": [
    "## Quick poll\n",
    "About how long did you spend working on this Reading Journal?"
   ]
  },
  {
   "cell_type": "markdown",
   "metadata": {},
   "source": [
    "5hours+"
   ]
  },
  {
   "cell_type": "markdown",
   "metadata": {},
   "source": [
    "## Notes for the Instructors\n",
    "\n",
    "Please use the space below to write comments to help us plan the next class session.  For instance, if you want to see us go over an example of a particular type of problem, you can indicate that here.\n",
    "\n",
    "Please remember that the best way to get quick feedback from the instructors as well as your peers, is to use Piazza.  However, consider using this channel if it doesn't make sense to post your note to Piazza."
   ]
  },
  {
   "cell_type": "markdown",
   "metadata": {},
   "source": []
  }
 ],
 "metadata": {
  "kernelspec": {
   "display_name": "Python 3",
   "language": "python",
   "name": "python3"
  },
  "language_info": {
   "codemirror_mode": {
    "name": "ipython",
    "version": 3
   },
   "file_extension": ".py",
   "mimetype": "text/x-python",
   "name": "python",
   "nbconvert_exporter": "python",
   "pygments_lexer": "ipython3",
   "version": "3.4.3"
  }
 },
 "nbformat": 4,
 "nbformat_minor": 0
}
